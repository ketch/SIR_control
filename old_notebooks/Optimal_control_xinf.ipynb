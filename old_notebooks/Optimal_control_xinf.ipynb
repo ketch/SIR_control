{
 "cells": [
  {
   "cell_type": "code",
   "execution_count": null,
   "metadata": {},
   "outputs": [],
   "source": [
    "import numpy as np\n",
    "import matplotlib.pyplot as plt\n",
    "import matplotlib\n",
    "from ipywidgets import interact, widgets\n",
    "import matplotlib.dates as dates\n",
    "from scipy.integrate import solve_ivp, solve_bvp\n",
    "from IPython.display import Image\n",
    "plt.style.use('seaborn-poster')\n",
    "matplotlib.rcParams['figure.figsize'] = (10., 6.)\n",
    "from scipy.special import lambertw, expit"
   ]
  },
  {
   "cell_type": "code",
   "execution_count": null,
   "metadata": {},
   "outputs": [],
   "source": [
    "def x_inf(x,y,sigma):\n",
    "    return -1./sigma * np.real(lambertw(-x*sigma*np.exp(-sigma*(x+y))))\n",
    "\n",
    "def mu(x,y,sigma):\n",
    "    return x*np.exp(-sigma*(x+y))\n",
    "\n",
    "def dxinf_dy(x,y,sigma):\n",
    "    xinf = x_inf(x,y,sigma)\n",
    "    return -sigma*xinf/(1-sigma*xinf)"
   ]
  },
  {
   "cell_type": "code",
   "execution_count": null,
   "metadata": {},
   "outputs": [],
   "source": [
    "sigma=3.\n",
    "x = 0.9\n",
    "y = 0.1\n",
    "muu = mu(x,y,sigma)\n",
    "xinf = x_inf(x,y,sigma)\n",
    "print(dxinf_dy(x,y,sigma))\n",
    "print(-sigma*muu/(np.exp(-sigma*xinf)-sigma*muu))"
   ]
  },
  {
   "cell_type": "code",
   "execution_count": null,
   "metadata": {},
   "outputs": [],
   "source": [
    "# Tune these\n",
    "c1 = 1.    # Cost of population that got infected\n",
    "c2 = 1.0e-3   # Cost of control\n",
    "\n",
    "beta = 0.3\n",
    "gamma = 0.1\n",
    "sigma0 = beta/gamma\n",
    "qmax = 1.0\n",
    "\n",
    "def rhs(t, u):\n",
    "    # Variables: x, y, lambda_1, lambda_2\n",
    "    du = np.zeros((4,len(t)))\n",
    "\n",
    "    qstar = (u[3,:]-u[2,:])*beta*u[1,:]*u[0,:]/(2*c2)\n",
    "    sigma = (1-qstar)*sigma0\n",
    "    sigma = np.maximum((1-qmax)*sigma0,np.minimum(sigma0,sigma))\n",
    "\n",
    "    du[0,:] = -sigma*gamma*u[1,:]*u[0,:]\n",
    "    du[1,:] =  sigma*gamma*u[1,:]*u[0,:] - gamma*u[1]\n",
    "    du[2,:] = (u[2,:]-u[3,:])*sigma*gamma*u[1,:]\n",
    "    du[3,:] = (u[2,:]-u[3,:])*sigma*gamma*u[0,:] + u[3,:]*gamma\n",
    "    return du\n",
    "\n",
    "y0 = 0.01 # Initial infected\n",
    "x0 = 0.99\n",
    "\n",
    "def bc(ua, ub):\n",
    "    xT = ub[0]; yT=ub[1]\n",
    "    lam2T = -c1*dxinf_dy(xT,yT,sigma0)\n",
    "    lam1T = lam2T*(1-1/(xT*sigma0))\n",
    "    return np.array([ua[0]-x0, ua[1]-y0, ub[2]-lam1T, ub[3]-lam2T])\n",
    "\n",
    "    \n",
    "T = 100  # Final time\n",
    "N = 1000\n",
    "tt = np.linspace(0,T,N+1)\n",
    "uu = np.zeros((4,N+1))\n",
    "xT = 1./sigma0 + 0.05\n",
    "yT = 0.\n",
    "uselast=True\n",
    "if uselast:\n",
    "    last = result.sol(tt)\n",
    "    uu[0,:] = last[0,:]\n",
    "    uu[1,:] = last[1,:]\n",
    "    uu[2,:] = last[2,:]\n",
    "    uu[3,:] = last[3,:]\n",
    "else:\n",
    "    uu[0,:] = np.exp(-(beta-gamma)*tt/6)\n",
    "    uu[1,:] = 0.5*np.exp(-1.e-3*(tt-15)**2)\n",
    "    uu[2,:] = -c1*dxinf_dy(xT,yT,sigma0)*(1-1/(xT*sigma0))\n",
    "\n",
    "result = solve_bvp(rhs, bc, tt, uu, max_nodes=2000000, tol=1.e-6, verbose=2)\n",
    "x = result.y[0,:]\n",
    "y = result.y[1,:]\n",
    "lam1 = result.y[2,:]\n",
    "lam2 = result.y[3,:]\n",
    "\n",
    "qstar = (lam2-lam1)*beta*y*x/(2*c2)\n",
    "sigma = (1-qstar)*sigma0\n",
    "sigma = np.maximum((1-qmax)*sigma0,np.minimum(sigma0,sigma))\n",
    "t = result.x\n",
    "print(result.message)\n",
    "obj = -c1*x_inf(x[-1],y[-1],sigma0) + c2*np.sum(np.diff(t)*(sigma0-sigma[1:])**2)\n",
    "print(obj)\n",
    "print(x_inf(x[-1],y[-1],sigma0))"
   ]
  },
  {
   "cell_type": "code",
   "execution_count": null,
   "metadata": {},
   "outputs": [],
   "source": [
    "fig, ax = plt.subplots(1,1)\n",
    "ax.plot(t,x)\n",
    "ax.plot(t,y)\n",
    "ax.plot(t,1-sigma/sigma0)\n",
    "ax.legend(['x','y','$\\sigma/\\sigma_0$']);\n",
    "plt.xlabel('t')\n",
    "plt.savefig('example1_time.pdf')"
   ]
  },
  {
   "cell_type": "code",
   "execution_count": null,
   "metadata": {},
   "outputs": [],
   "source": [
    "N1 = 10; N2=5\n",
    "Y, X = np.mgrid[0:1:100j, 0:1:100j]\n",
    "U = -beta*X*Y\n",
    "V = beta*X*Y - gamma*Y\n",
    "x_points = list(np.linspace(0,1,N1)) + list(np.linspace(1./sigma0,1,N2))\n",
    "y_points = list(1.-np.linspace(0,1,N1)) + [1.e-6]*N2\n",
    "seed_points = np.array([x_points, y_points])\n",
    "\n",
    "plt.figure(figsize=(6,6))\n",
    "plt.streamplot(X, Y, U, V, start_points=seed_points.T,integration_direction='forward',maxlength=1000,\n",
    "               broken_streamlines=False,linewidth=1)\n",
    "plt.plot([0,1],[1,0],'-k',alpha=0.5)\n",
    "plt.plot(x,y,'-k')\n",
    "plt.plot([gamma/beta, gamma/beta],[0,1-gamma/beta],'--k',alpha=0.5)\n",
    "plt.xlim(0,1); plt.ylim(0,1);\n",
    "plt.xlabel('x'); plt.ylabel('y')\n",
    "plt.savefig('example1_xy.pdf')"
   ]
  },
  {
   "cell_type": "code",
   "execution_count": null,
   "metadata": {},
   "outputs": [],
   "source": [
    "plt.plot(t,lam1)\n",
    "plt.plot(t,lam2)\n",
    "plt.legend([r'$\\lambda_1$',r'$\\lambda_2$'])\n",
    "plt.ylim(-0.05,0.05);"
   ]
  },
  {
   "cell_type": "code",
   "execution_count": null,
   "metadata": {},
   "outputs": [],
   "source": []
  },
  {
   "cell_type": "code",
   "execution_count": null,
   "metadata": {},
   "outputs": [],
   "source": [
    "# Tune these\n",
    "c1 = 1.    # Cost of population that got infected\n",
    "\n",
    "beta = 0.3\n",
    "gamma = 0.1\n",
    "sigma0 = beta/gamma\n",
    "\n",
    "xs = []\n",
    "ys = []\n",
    "ts = []\n",
    "qs = []\n",
    "sigmas = []\n",
    "\n",
    "c2s = np.array([1.,1.e-1,1.e-2,1.e-3,3.e-4,2.e-4,1.5e-4,1.e-5,1.e-6])\n",
    "for c2 in c2s:\n",
    "\n",
    "    def rhs(t, u):\n",
    "        # Variables: x, y, lambda_1, lambda_2\n",
    "        du = np.zeros((4,len(t)))\n",
    "\n",
    "        sigma = sigma0 - (u[3,:]-u[2,:])*gamma*u[1,:]*u[0,:]/(2*c2)\n",
    "        sigma = np.maximum(0,np.minimum(sigma0,sigma))\n",
    "\n",
    "        du[0,:] = -sigma*gamma*u[1,:]*u[0,:]\n",
    "        du[1,:] =  sigma*gamma*u[1,:]*u[0,:] - gamma*u[1]\n",
    "        du[2,:] = (u[2,:]-u[3,:])*sigma*gamma*u[1,:]\n",
    "        du[3,:] = (u[2,:]-u[3,:])*sigma*gamma*u[0,:] + u[3,:]*gamma\n",
    "        return du\n",
    "\n",
    "    y0 = 0.1 # Initial infected\n",
    "    x0 = 0.9\n",
    "\n",
    "    def bc(ua, ub):\n",
    "        xT = ub[0]; yT=ub[1]\n",
    "        lam2T = -c1*dxinf_dy(xT,yT,sigma0)\n",
    "        lam1T = lam2T*(1-1/(xT*sigma0))\n",
    "        return np.array([ua[0]-x0, ua[1]-y0, ub[2]-lam1T, ub[3]-lam2T])\n",
    "\n",
    "\n",
    "    T = 100  # Final time\n",
    "    N = 1000\n",
    "    tt = np.linspace(0,T,N+1)\n",
    "    uu = np.zeros((4,N+1))\n",
    "    xT = 1./sigma0 + 0.05\n",
    "    yT = 0.\n",
    "    if c2<1:\n",
    "        print(c2)\n",
    "        last = result.sol(tt)\n",
    "        uu[0,:] = last[0,:]\n",
    "        uu[1,:] = last[1,:]\n",
    "        uu[2,:] = last[2,:]\n",
    "        uu[3,:] = last[3,:]\n",
    "    else:\n",
    "        uu[0,:] = np.exp(-(beta-gamma)*tt/6)\n",
    "        uu[1,:] = 0.5*np.exp(-1.e-3*(tt-15)**2)\n",
    "        uu[2,:] = c1\n",
    "\n",
    "    result = solve_bvp(rhs, bc, tt, uu, max_nodes=2000000, tol=1.e-6, verbose=2)\n",
    "    x = result.y[0,:]\n",
    "    y = result.y[1,:]\n",
    "    lam1 = result.y[2,:]\n",
    "    lam2 = result.y[3,:]\n",
    "    t = result.x\n",
    "    \n",
    "    sigma = sigma0 - (lam2-lam1)*gamma*y*x/(2*c2)\n",
    "    sigma = np.maximum(0,np.minimum(sigma0,sigma))\n",
    "    \n",
    "    xs.append(x)\n",
    "    ys.append(y)\n",
    "    ts.append(t)\n",
    "    sigmas.append(sigma)\n",
    "    qs.append(1.-sigma/sigma0)\n",
    "\n",
    "    print(result.message)"
   ]
  },
  {
   "cell_type": "code",
   "execution_count": null,
   "metadata": {},
   "outputs": [],
   "source": [
    "fig, ax = plt.subplots(1,1)\n",
    "palette = plt.get_cmap('tab10')\n",
    "colors = ['red','brown','blue','purple','brown','green']\n",
    "exps = ['-1','-2','-3','-5','-7','-8']\n",
    "j=0\n",
    "for i in [2,3,7]:#range(len(xs)):\n",
    "    j += 1\n",
    "    #ax.plot(ts[i],xs[i])\n",
    "    ax.plot(ts[i],ys[i],color=palette(j),label='$c_2='+str(c2s[i])+'$')\n",
    "    ax.plot(ts[i],sigmas[i]/sigma0,'--',color=palette(j))\n",
    "#ax.legend(['x','y','$\\sigma/\\sigma_0$']);\n",
    "plt.xlabel('t'); #plt.ylabel('$y(t)$ and $\\sigma(t)/\\sigma_0$')\n",
    "plt.legend()\n",
    "plt.savefig('varying_c2.pdf')"
   ]
  },
  {
   "cell_type": "code",
   "execution_count": null,
   "metadata": {},
   "outputs": [],
   "source": [
    "N1 = 10; N2=5\n",
    "Y, X = np.mgrid[0:1:100j, 0:1:100j]\n",
    "U = -beta*X*Y\n",
    "V = beta*X*Y - gamma*Y\n",
    "x_points = list(np.linspace(0,1,N1)) + list(np.linspace(1./sigma0,1,N2))\n",
    "y_points = list(1.-np.linspace(0,1,N1)) + [1.e-6]*N2\n",
    "seed_points = np.array([x_points, y_points])\n",
    "\n",
    "plt.figure(figsize=(6,6))\n",
    "plt.streamplot(X, Y, U, V, start_points=seed_points.T,integration_direction='forward',maxlength=1000,\n",
    "               broken_streamlines=False,linewidth=1)\n",
    "plt.plot([0,1],[1,0],'-k',alpha=0.5)\n",
    "j=0\n",
    "for i in [2,3,7]:\n",
    "    j+=1\n",
    "    plt.plot(xs[i],ys[i],'-',color=palette(j))\n",
    "plt.plot([gamma/beta, gamma/beta],[0,1-gamma/beta],'--k',alpha=0.5)\n",
    "plt.xlim(0,1); plt.ylim(0,1);\n",
    "plt.xlabel('x'); plt.ylabel('y')\n",
    "plt.savefig('varying_c2_xy.pdf')"
   ]
  },
  {
   "cell_type": "markdown",
   "metadata": {},
   "source": [
    "## Optimizing also for hospital capacity"
   ]
  },
  {
   "cell_type": "code",
   "execution_count": null,
   "metadata": {
    "scrolled": false
   },
   "outputs": [],
   "source": [
    "# Tune these\n",
    "c1 = 1.    # Cost of population that got infected\n",
    "c2 = 1.e-2   # Cost of control\n",
    "c3 = 0.e-0\n",
    "\n",
    "ymax = 0.1   # Hospital capacity\n",
    "beta = 0.3\n",
    "gamma = 0.1\n",
    "sigma0 = beta/gamma\n",
    "\n",
    "\n",
    "def rhs(t, u):\n",
    "    # Variables: x, y, lambda_1, lambda_2\n",
    "    du = np.zeros((4,len(t)))\n",
    "\n",
    "    alpha = expit(10*(u[1,:]-ymax))*(u[1,:]-ymax)\n",
    "        \n",
    "    sigma = sigma0 - (u[3,:]-u[2,:])*gamma*u[1,:]*u[0,:]/(2*c2)\n",
    "    sigma = np.maximum(0,np.minimum(sigma0,sigma))\n",
    "\n",
    "    du[0,:] = -sigma*gamma*u[1,:]*u[0,:]\n",
    "    du[1,:] =  sigma*gamma*u[1,:]*u[0,:] - gamma*u[1]\n",
    "    du[2,:] = (u[2,:]-u[3,:])*sigma*gamma*u[1,:]\n",
    "    du[3,:] = (u[2,:]-u[3,:])*sigma*gamma*u[0,:] + u[3,:]*gamma + c3*alpha\n",
    "    return du\n",
    "\n",
    "y0 = 0.01 # Initial infected\n",
    "x0 = 0.99\n",
    "\n",
    "def bc(ua, ub):\n",
    "    xT = ub[0]; yT=ub[1]\n",
    "    lam2T = -c1*dxinf_dy(xT,yT,sigma0)\n",
    "    lam1T = lam2T*(1-1/(xT*sigma0))\n",
    "    return np.array([ua[0]-x0, ua[1]-y0, ub[2]-lam1T, ub[3]-lam2T])\n",
    "\n",
    "    \n",
    "T = 100  # Final time\n",
    "N = 1000\n",
    "tt = np.linspace(0,T,N+1)\n",
    "uu = np.zeros((4,N+1))\n",
    "xT = 1./sigma0 + 0.05\n",
    "yT = 0.\n",
    "uselast=False\n",
    "if uselast:\n",
    "    last = result.sol(tt)\n",
    "    uu[0,:] = last[0,:]\n",
    "    uu[1,:] = last[1,:]\n",
    "    uu[2,:] = last[2,:]\n",
    "    uu[3,:] = last[3,:]\n",
    "else:\n",
    "    uu[0,:] = np.exp(-(beta-gamma)*tt/6)\n",
    "    uu[1,:] = 0.5*np.exp(-1.e-3*(tt-15)**2)\n",
    "    uu[2,:] = -c1#*dxinf_dy(xT,yT,sigma0)*(1-1/(xT*sigma0))\n",
    "    #uu[3,:] = -c1*dxinf_dy(xT,yT,sigma0)\n",
    "\n",
    "result = solve_bvp(rhs, bc, tt, uu, max_nodes=2000000, tol=1.e-6, verbose=2)\n",
    "x = result.y[0,:]\n",
    "y = result.y[1,:]\n",
    "lam1 = result.y[2,:]\n",
    "lam2 = result.y[3,:]\n",
    "\n",
    "sigma = sigma0 - (lam2-lam1)*gamma*y*x/(2*c2)\n",
    "sigma = np.maximum(0,np.minimum(sigma0,sigma))\n",
    "t = result.x\n",
    "print(result.message)\n",
    "obj = -c1*x_inf(x[-1],y[-1],sigma0) + c2*np.sum(np.diff(t)*(sigma0-sigma[1:])**2)\n",
    "print(obj)\n",
    "print(x_inf(x[-1],y[-1],sigma0))"
   ]
  },
  {
   "cell_type": "code",
   "execution_count": null,
   "metadata": {
    "scrolled": false
   },
   "outputs": [],
   "source": [
    "fig, ax = plt.subplots(1,1)\n",
    "ax.plot(t,x)\n",
    "ax.plot(t,y)\n",
    "ax.plot(t,sigma/sigma0)\n",
    "ax.legend(['x','y','$\\sigma/\\sigma_0$']);\n",
    "plt.xlabel('t'); plt.ylabel('y(t) and q(t)');"
   ]
  },
  {
   "cell_type": "code",
   "execution_count": null,
   "metadata": {},
   "outputs": [],
   "source": [
    "N1 = 10; N2=5\n",
    "Y, X = np.mgrid[0:1:100j, 0:1:100j]\n",
    "U = -beta*X*Y\n",
    "V = beta*X*Y - gamma*Y\n",
    "x_points = list(np.linspace(0,1,N1)) + list(np.linspace(1./sigma0,1,N2))\n",
    "y_points = list(1.-np.linspace(0,1,N1)) + [1.e-6]*N2\n",
    "seed_points = np.array([x_points, y_points])\n",
    "\n",
    "plt.figure(figsize=(6,6))\n",
    "plt.streamplot(X, Y, U, V, start_points=seed_points.T,integration_direction='forward',maxlength=1000,\n",
    "               broken_streamlines=False,linewidth=1)\n",
    "plt.plot([0,1],[1,0],'-k',alpha=0.5)\n",
    "plt.plot(x,y,'-k')\n",
    "plt.plot([gamma/beta, gamma/beta],[0,1-gamma/beta],'--k',alpha=0.5)\n",
    "plt.xlim(0,1); plt.ylim(0,1);\n",
    "plt.plot([0,1-ymax],[ymax,ymax],'--k',alpha=0.5)\n",
    "plt.xlabel('x'); plt.ylabel('y');"
   ]
  },
  {
   "cell_type": "code",
   "execution_count": null,
   "metadata": {},
   "outputs": [],
   "source": [
    "np.max(y)"
   ]
  },
  {
   "cell_type": "markdown",
   "metadata": {},
   "source": [
    "## Function version"
   ]
  },
  {
   "cell_type": "code",
   "execution_count": null,
   "metadata": {},
   "outputs": [],
   "source": [
    "def SIR_control(beta=0.3, gamma=0.1, x0=0.99, y0=0.01, c1=1., c2=1.e-2, c3=0., ymax=0.1, guess=None, T=100):\n",
    "    sigma0 = beta/gamma\n",
    "\n",
    "    def rhs(t, u):\n",
    "        # Variables: x, y, lambda_1, lambda_2\n",
    "        du = np.zeros((4,len(t)))\n",
    "\n",
    "        alpha = expit(10*(u[1,:]-ymax))*(u[1,:]-ymax)\n",
    "        \n",
    "        sigma = sigma0 - (u[3,:]-u[2,:])*gamma*u[1,:]*u[0,:]/(2*c2)\n",
    "        sigma = np.maximum(0,np.minimum(sigma0,sigma))\n",
    "\n",
    "        du[0,:] = -sigma*gamma*u[1,:]*u[0,:]\n",
    "        du[1,:] =  sigma*gamma*u[1,:]*u[0,:] - gamma*u[1]\n",
    "        du[2,:] = (u[2,:]-u[3,:])*sigma*gamma*u[1,:]\n",
    "        du[3,:] = (u[2,:]-u[3,:])*sigma*gamma*u[0,:] + u[3,:]*gamma - c3*alpha\n",
    "        return du\n",
    "\n",
    "    def bc(ua, ub):\n",
    "        xT = ub[0]; yT=ub[1]\n",
    "        lam2T = -c1*dxinf_dy(xT,yT,sigma0)\n",
    "        lam1T = lam2T*(1-1/(xT*sigma0))\n",
    "        return np.array([ua[0]-x0, ua[1]-y0, ub[2]-lam1T, ub[3]-lam2T])\n",
    "\n",
    "    N = 1000\n",
    "    tt = np.linspace(0,T,N+1)\n",
    "    uu = np.zeros((4,N+1))\n",
    "    xT = 1./sigma0 + 0.05\n",
    "    yT = 0.\n",
    "    if guess is not None:\n",
    "        #last = result.sol(tt)\n",
    "        uu[0,:] = guess[0,:]\n",
    "        uu[1,:] = guess[1,:]\n",
    "        uu[2,:] = guess[2,:]\n",
    "        uu[3,:] = guess[3,:]\n",
    "    else:\n",
    "        uu[0,:] = np.exp(-(beta-gamma)*tt/6)\n",
    "        uu[1,:] = 0.5*np.exp(-1.e-3*(tt-15)**2)\n",
    "        uu[2,:] = -c1\n",
    "\n",
    "    result = solve_bvp(rhs, bc, tt, uu, max_nodes=2000000, tol=1.e-6, verbose=2)\n",
    "    x = result.y[0,:]\n",
    "    y = result.y[1,:]\n",
    "    lam1 = result.y[2,:]\n",
    "    lam2 = result.y[3,:]\n",
    "\n",
    "    sigma = sigma0 - (lam2-lam1)*gamma*y*x/(2*c2)\n",
    "    sigma = np.maximum(0,np.minimum(sigma0,sigma))\n",
    "    t = result.x\n",
    "    print(result.message)\n",
    "    print(obj)\n",
    "    return x, y, sigma, t, result.sol(tt)"
   ]
  },
  {
   "cell_type": "code",
   "execution_count": null,
   "metadata": {},
   "outputs": [],
   "source": [
    "x1, y1, sigma1, t1, newguess = SIR_control(c2=1.e-3,c3=10,T=100,guess=newguess)"
   ]
  },
  {
   "cell_type": "code",
   "execution_count": null,
   "metadata": {},
   "outputs": [],
   "source": [
    "N1 = 10; N2=5\n",
    "Y, X = np.mgrid[0:1:100j, 0:1:100j]\n",
    "U = -beta*X*Y\n",
    "V = beta*X*Y - gamma*Y\n",
    "x_points = list(np.linspace(0,1,N1)) + list(np.linspace(1./sigma0,1,N2))\n",
    "y_points = list(1.-np.linspace(0,1,N1)) + [1.e-6]*N2\n",
    "seed_points = np.array([x_points, y_points])\n",
    "\n",
    "plt.figure(figsize=(6,6))\n",
    "plt.streamplot(X, Y, U, V, start_points=seed_points.T,integration_direction='forward',maxlength=1000,\n",
    "               broken_streamlines=False,linewidth=1)\n",
    "plt.plot([0,1],[1,0],'-k',alpha=0.5)\n",
    "plt.plot(x1,y1,'-k')\n",
    "plt.plot([gamma/beta, gamma/beta],[0,1-gamma/beta],'--k',alpha=0.5)\n",
    "plt.xlim(0,1); plt.ylim(0,1);\n",
    "plt.xlabel('x'); plt.ylabel('y');\n",
    "#plt.legend()\n",
    "plt.savefig('min_hosp_1_xy.pdf')"
   ]
  },
  {
   "cell_type": "code",
   "execution_count": null,
   "metadata": {},
   "outputs": [],
   "source": [
    "fig, ax = plt.subplots(1,1)\n",
    "ax.plot(t1,x1)\n",
    "ax.plot(t1,y1)\n",
    "ax.plot(t1,sigma1/sigma0)\n",
    "ax.legend(['x','y','$\\sigma/\\sigma_0$']);\n",
    "plt.xlabel('t'); plt.ylabel('y(t) and q(t)');\n",
    "plt.savefig('min_hosp_1_t.pdf')"
   ]
  },
  {
   "cell_type": "code",
   "execution_count": null,
   "metadata": {},
   "outputs": [],
   "source": [
    "x1, y1, sigma1, t1, newguess = SIR_control(c2=1.e-3,c3=1,T=100,guess=newguess)"
   ]
  },
  {
   "cell_type": "code",
   "execution_count": null,
   "metadata": {},
   "outputs": [],
   "source": [
    "N1 = 10; N2=5\n",
    "Y, X = np.mgrid[0:1:100j, 0:1:100j]\n",
    "U = -beta*X*Y\n",
    "V = beta*X*Y - gamma*Y\n",
    "x_points = list(np.linspace(0,1,N1)) + list(np.linspace(1./sigma0,1,N2))\n",
    "y_points = list(1.-np.linspace(0,1,N1)) + [1.e-6]*N2\n",
    "seed_points = np.array([x_points, y_points])\n",
    "\n",
    "plt.figure(figsize=(6,6))\n",
    "plt.streamplot(X, Y, U, V, start_points=seed_points.T,integration_direction='forward',maxlength=1000,\n",
    "               broken_streamlines=False,linewidth=1)\n",
    "plt.plot([0,1],[1,0],'-k',alpha=0.5)\n",
    "plt.plot(x1,y1,'-k')\n",
    "plt.plot([gamma/beta, gamma/beta],[0,1-gamma/beta],'--k',alpha=0.5)\n",
    "plt.xlim(0,1); plt.ylim(0,1);\n",
    "plt.xlabel('x'); plt.ylabel('y');\n",
    "#plt.legend()\n",
    "plt.savefig('min_hosp_2_xy.pdf')"
   ]
  },
  {
   "cell_type": "code",
   "execution_count": null,
   "metadata": {},
   "outputs": [],
   "source": [
    "fig, ax = plt.subplots(1,1)\n",
    "ax.plot(t1,x1)\n",
    "ax.plot(t1,y1)\n",
    "ax.plot(t1,sigma1/sigma0)\n",
    "ax.legend(['x','y','$\\sigma/\\sigma_0$']);\n",
    "plt.xlabel('t'); plt.ylabel('y(t) and q(t)');\n",
    "plt.savefig('min_hosp_2_t.pdf')"
   ]
  },
  {
   "cell_type": "code",
   "execution_count": null,
   "metadata": {},
   "outputs": [],
   "source": [
    "x1, y1, sigma1, t1, newguess = SIR_control(c2=1.e-8,T=30)\n",
    "x2, y2, sigma2, t2, newguess = SIR_control(c2=1.e-8,T=40)\n",
    "x3, y3, sigma3, t3, newguess = SIR_control(c2=1.e-0,T=70)\n",
    "x3, y3, sigma3, t3, newguess = SIR_control(c2=1.e-2,T=70,guess=newguess)\n",
    "x3, y3, sigma3, t3, newguess = SIR_control(c2=1.e-3,T=70,guess=newguess)\n",
    "x3, y3, sigma3, t3, newguess = SIR_control(c2=1.e-4,T=70,guess=newguess)\n",
    "x3, y3, sigma3, t3, newguess = SIR_control(c2=1.e-8,T=70,guess=newguess)"
   ]
  },
  {
   "cell_type": "code",
   "execution_count": null,
   "metadata": {},
   "outputs": [],
   "source": [
    "fig, ax = plt.subplots(1,1)\n",
    "ax.plot(t,x)\n",
    "ax.plot(t,y)\n",
    "ax.plot(t,sigma/sigma0)\n",
    "ax.legend(['x','y','$\\sigma/\\sigma_0$']);\n",
    "plt.xlabel('t'); plt.ylabel('y(t) and q(t)');"
   ]
  },
  {
   "cell_type": "code",
   "execution_count": null,
   "metadata": {},
   "outputs": [],
   "source": [
    "N1 = 10; N2=5\n",
    "Y, X = np.mgrid[0:1:100j, 0:1:100j]\n",
    "U = -beta*X*Y\n",
    "V = beta*X*Y - gamma*Y\n",
    "x_points = list(np.linspace(0,1,N1)) + list(np.linspace(1./sigma0,1,N2))\n",
    "y_points = list(1.-np.linspace(0,1,N1)) + [1.e-6]*N2\n",
    "seed_points = np.array([x_points, y_points])\n",
    "\n",
    "plt.figure(figsize=(6,6))\n",
    "plt.streamplot(X, Y, U, V, start_points=seed_points.T,integration_direction='forward',maxlength=1000,\n",
    "               broken_streamlines=False,linewidth=1)\n",
    "plt.plot([0,1],[1,0],'-k',alpha=0.5)\n",
    "plt.plot(x3,y3,'-',label='T='+str(Ts[2]))\n",
    "plt.plot(x2,y2,'-',label='T='+str(Ts[1]))\n",
    "plt.plot(x1,y1,'-',label='T='+str(Ts[0]))\n",
    "plt.plot([gamma/beta, gamma/beta],[0,1-gamma/beta],'--k',alpha=0.5)\n",
    "plt.xlim(0,1); plt.ylim(0,1);\n",
    "plt.xlabel('x'); plt.ylabel('y');\n",
    "plt.legend()\n",
    "plt.savefig('diff-time-opt.pdf')"
   ]
  },
  {
   "cell_type": "markdown",
   "metadata": {},
   "source": [
    "# Figure 7"
   ]
  },
  {
   "cell_type": "code",
   "execution_count": null,
   "metadata": {},
   "outputs": [],
   "source": [
    "x1, y1, sigma1, t1, newguess = SIR_control(beta=0.3,gamma=0.1,c2=1.e-2,c3=0,T=100)"
   ]
  },
  {
   "cell_type": "code",
   "execution_count": null,
   "metadata": {},
   "outputs": [],
   "source": [
    "N1 = 10; N2=5\n",
    "Y, X = np.mgrid[0:1:100j, 0:1:100j]\n",
    "U = -beta*X*Y\n",
    "V = beta*X*Y - gamma*Y\n",
    "x_points = list(np.linspace(0,1,N1)) + list(np.linspace(1./sigma0,1,N2))\n",
    "y_points = list(1.-np.linspace(0,1,N1)) + [1.e-6]*N2\n",
    "seed_points = np.array([x_points, y_points])\n",
    "\n",
    "plt.figure(figsize=(6,6))\n",
    "plt.streamplot(X, Y, U, V, start_points=seed_points.T,integration_direction='forward',maxlength=1000,\n",
    "               broken_streamlines=False,linewidth=1)\n",
    "plt.plot([0,1],[1,0],'-k',alpha=0.5)\n",
    "#plt.plot(x3,y3,'-',label='T='+str(Ts[2]))\n",
    "#plt.plot(x2,y2,'-',label='T='+str(Ts[1]))\n",
    "plt.plot(x1,y1,'-',label='T='+str(Ts[0]))\n",
    "plt.plot([gamma/beta, gamma/beta],[0,1-gamma/beta],'--k',alpha=0.5)\n",
    "plt.xlim(0,1); plt.ylim(0,1);\n",
    "plt.xlabel('x'); plt.ylabel('y');\n",
    "plt.legend()\n",
    "#plt.savefig('diff-time-opt.pdf')"
   ]
  },
  {
   "cell_type": "markdown",
   "metadata": {},
   "source": [
    "# Real-world application for paper"
   ]
  },
  {
   "cell_type": "code",
   "execution_count": null,
   "metadata": {},
   "outputs": [],
   "source": [
    "N = 1\n",
    "alpha = 0.006  # IFR\n",
    "eta = 2*alpha # Increase in IFR when no medical care is given\n",
    "d = 1e4 # Days left of life for average victim\n",
    "eps = 0.2  # Fraction of value of a day of life that is lost due to intervention\n",
    "c1 = N*alpha\n",
    "c2 = N*eps/d\n",
    "c3 = eta*N\n",
    "gamma = 1./10\n",
    "sigma0 = 2.5\n",
    "beta = sigma0*gamma\n",
    "ymax=0.02\n",
    "y0 = 1e-3\n",
    "x0 = 1-y0\n",
    "T = 200\n",
    "x1, y1, sigma1, t1, newguess = SIR_control(beta=beta,gamma=gamma,c1=c1,c2=400*c2,c3=c3,T=T,guess=None,ymax=ymax)\n",
    "x1, y1, sigma1, t1, newguess = SIR_control(beta=beta,gamma=gamma,c1=c1,c2=50*c2,c3=c3,T=T,guess=newguess,ymax=ymax)\n",
    "x1, y1, sigma1, t1, newguess = SIR_control(beta=beta,gamma=gamma,c1=c1,c2=5*c2,c3=c3,T=T,guess=newguess,ymax=ymax)\n",
    "x1, y1, sigma1, t1, newguess = SIR_control(beta=beta,gamma=gamma,c1=c1,c2=2.5*c2,c3=c3,T=T,guess=newguess,ymax=ymax)\n",
    "x1, y1, sigma1, t1, newguess = SIR_control(beta=beta,gamma=gamma,c1=c1,c2=1.5*c2,c3=c3,T=T,guess=newguess,ymax=ymax)\n",
    "\n",
    "x1, y1, sigma1, t1, newguess = SIR_control(beta=beta,gamma=gamma,c1=c1,c2=c2,c3=c3,T=T,\n",
    "                                           guess=newguess,ymax=ymax,x0=x0,y0=y0)"
   ]
  },
  {
   "cell_type": "code",
   "execution_count": null,
   "metadata": {},
   "outputs": [],
   "source": [
    "fig, ax = plt.subplots(1,1)\n",
    "ax.plot(t1,x1)\n",
    "ax.plot(t1,y1)\n",
    "ax.plot(t1,sigma1/sigma0)\n",
    "ax.legend(['x','y','$\\sigma/\\sigma_0$']);\n",
    "plt.xlabel('t');\n",
    "ax.autoscale(enable=True, axis='x', tight=True)\n",
    "plt.savefig('real_world_1_t.pdf')"
   ]
  },
  {
   "cell_type": "code",
   "execution_count": null,
   "metadata": {},
   "outputs": [],
   "source": [
    "N1 = 10; N2=5\n",
    "Y, X = np.mgrid[0:1:100j, 0:1:100j]\n",
    "U = -beta*X*Y\n",
    "V = beta*X*Y - gamma*Y\n",
    "x_points = list(np.linspace(0,1,N1)) + list(np.linspace(1./sigma0,1,N2))\n",
    "y_points = list(1.-np.linspace(0,1,N1)) + [1.e-6]*N2\n",
    "seed_points = np.array([x_points, y_points])\n",
    "\n",
    "plt.figure(figsize=(6,6))\n",
    "plt.streamplot(X, Y, U, V, start_points=seed_points.T,integration_direction='forward',maxlength=1000,\n",
    "               broken_streamlines=False,linewidth=1)\n",
    "plt.plot([0,1],[1,0],'-k',alpha=0.5)\n",
    "plt.plot(x1,y1,'-k')\n",
    "plt.plot([gamma/beta, gamma/beta],[0,1-gamma/beta],'--k',alpha=0.5)\n",
    "plt.xlim(0,1); plt.ylim(0,1);\n",
    "plt.xlabel('x'); plt.ylabel('y');\n",
    "#plt.legend()\n",
    "plt.savefig('real_world_1_xy.pdf')"
   ]
  },
  {
   "cell_type": "code",
   "execution_count": null,
   "metadata": {},
   "outputs": [],
   "source": [
    "np.max(y1)"
   ]
  },
  {
   "cell_type": "code",
   "execution_count": null,
   "metadata": {},
   "outputs": [],
   "source": [
    "print(c1,c2,c3)"
   ]
  },
  {
   "cell_type": "code",
   "execution_count": null,
   "metadata": {},
   "outputs": [],
   "source": [
    "N = 1\n",
    "alpha = 0.012  # IFR\n",
    "eta = 2*alpha # Increase in IFR when no medical care is given\n",
    "d = 1e4 # Days left of life for average victim\n",
    "eps = 0.05 # Fraction of value of a day of life that is lost due to intervention\n",
    "c1 = N*alpha\n",
    "c2 = N*eps/d\n",
    "c3 = eta*N\n",
    "y0 = 1e-3\n",
    "x0 = 1-y0\n",
    "T = 200\n",
    "\n",
    "x1, y1, sigma1, t1, newguess = SIR_control(beta=beta, gamma=gamma,c1=c1,c2=100*c2,c3=c3,T=T,guess=None,x0=x0,y0=y0)\n",
    "x1, y1, sigma1, t1, newguess = SIR_control(beta=beta, gamma=gamma,c1=c1,c2=10*c2,c3=c3,T=T,guess=newguess,x0=x0,y0=y0)\n",
    "x1, y1, sigma1, t1, newguess = SIR_control(beta=beta, gamma=gamma,c1=c1,c2=3*c2,c3=c3,T=T,guess=newguess,x0=x0,y0=y0)\n",
    "x1, y1, sigma1, t1, newguess = SIR_control(beta=beta, gamma=gamma,c1=c1,c2=c2,c3=c3,T=T,guess=newguess,x0=x0,y0=y0)"
   ]
  },
  {
   "cell_type": "code",
   "execution_count": null,
   "metadata": {},
   "outputs": [],
   "source": [
    "fig, ax = plt.subplots(1,1)\n",
    "ax.plot(t1,x1)\n",
    "ax.plot(t1,y1)\n",
    "ax.plot(t1,sigma1/sigma0)\n",
    "ax.legend(['x','y','$\\sigma/\\sigma_0$']);\n",
    "plt.xlabel('t');\n",
    "plt.savefig('real_world_2_t.pdf')"
   ]
  },
  {
   "cell_type": "code",
   "execution_count": null,
   "metadata": {},
   "outputs": [],
   "source": [
    "N1 = 10; N2=5\n",
    "Y, X = np.mgrid[0:1:100j, 0:1:100j]\n",
    "U = -beta*X*Y\n",
    "V = beta*X*Y - gamma*Y\n",
    "x_points = list(np.linspace(0,1,N1)) + list(np.linspace(1./sigma0,1,N2))\n",
    "y_points = list(1.-np.linspace(0,1,N1)) + [1.e-6]*N2\n",
    "seed_points = np.array([x_points, y_points])\n",
    "\n",
    "plt.figure(figsize=(6,6))\n",
    "plt.streamplot(X, Y, U, V, start_points=seed_points.T,integration_direction='forward',maxlength=1000,\n",
    "               broken_streamlines=False,linewidth=1)\n",
    "plt.plot([0,1],[1,0],'-k',alpha=0.5)\n",
    "plt.plot(x1,y1,'-k')\n",
    "plt.plot([gamma/beta, gamma/beta],[0,1-gamma/beta],'--k',alpha=0.5)\n",
    "plt.xlim(0,1); plt.ylim(0,1);\n",
    "plt.xlabel('x'); plt.ylabel('y');\n",
    "#plt.legend()\n",
    "plt.savefig('real_world_2_xy.pdf')"
   ]
  },
  {
   "cell_type": "code",
   "execution_count": null,
   "metadata": {},
   "outputs": [],
   "source": [
    "np.max(y1)"
   ]
  },
  {
   "cell_type": "code",
   "execution_count": null,
   "metadata": {},
   "outputs": [],
   "source": [
    "print(c1,c2,c3)"
   ]
  },
  {
   "cell_type": "code",
   "execution_count": null,
   "metadata": {},
   "outputs": [],
   "source": [
    "N = 1\n",
    "alpha = 0.006  # IFR\n",
    "eta = 2*0.006 # Increase in IFR when no medical care is given\n",
    "d = 1e4 # Days left of life for average victim\n",
    "eps = 0.5 # Fraction of value of a day of life that is lost due to intervention\n",
    "c1 = N*alpha\n",
    "c2 = N*eps/d\n",
    "c3 = eta*N\n",
    "T=200\n",
    "x1, y1, sigma1, t1, newguess = SIR_control(beta=beta, gamma=gamma,c1=c1,c2=20*c2,c3=c3,T=T,guess=None)\n",
    "\n",
    "x1, y1, sigma1, t1, newguess = SIR_control(beta=beta, gamma=gamma,c1=c1,c2=3*c2,c3=c3,T=T,guess=newguess)\n",
    "x1, y1, sigma1, t1, newguess = SIR_control(beta=beta, gamma=gamma,c1=c1,c2=c2,c3=c3,T=T,guess=newguess,x0=x0,y0=y0)"
   ]
  },
  {
   "cell_type": "code",
   "execution_count": null,
   "metadata": {},
   "outputs": [],
   "source": [
    "fig, ax = plt.subplots(1,1)\n",
    "ax.plot(t1,x1)\n",
    "ax.plot(t1,y1)\n",
    "ax.plot(t1,sigma1/sigma0)\n",
    "ax.legend(['x','y','$\\sigma/\\sigma_0$']);\n",
    "plt.xlabel('t');\n",
    "plt.savefig('real_world_3_t.pdf')"
   ]
  },
  {
   "cell_type": "code",
   "execution_count": null,
   "metadata": {},
   "outputs": [],
   "source": [
    "N1 = 10; N2=5\n",
    "Y, X = np.mgrid[0:1:100j, 0:1:100j]\n",
    "U = -beta*X*Y\n",
    "V = beta*X*Y - gamma*Y\n",
    "x_points = list(np.linspace(0,1,N1)) + list(np.linspace(1./sigma0,1,N2))\n",
    "y_points = list(1.-np.linspace(0,1,N1)) + [1.e-6]*N2\n",
    "seed_points = np.array([x_points, y_points])\n",
    "\n",
    "plt.figure(figsize=(6,6))\n",
    "plt.streamplot(X, Y, U, V, start_points=seed_points.T,integration_direction='forward',maxlength=1000,\n",
    "               broken_streamlines=False,linewidth=1)\n",
    "plt.plot([0,1],[1,0],'-k',alpha=0.5)\n",
    "plt.plot(x1,y1,'-k')\n",
    "plt.plot([gamma/beta, gamma/beta],[0,1-gamma/beta],'--k',alpha=0.5)\n",
    "plt.xlim(0,1); plt.ylim(0,1);\n",
    "plt.xlabel('x'); plt.ylabel('y');\n",
    "#plt.legend()\n",
    "plt.savefig('real_world_3_xy.pdf')"
   ]
  },
  {
   "cell_type": "code",
   "execution_count": null,
   "metadata": {},
   "outputs": [],
   "source": [
    "print(c1,c2,c3)"
   ]
  },
  {
   "cell_type": "code",
   "execution_count": null,
   "metadata": {},
   "outputs": [],
   "source": [
    "beta"
   ]
  },
  {
   "cell_type": "markdown",
   "metadata": {},
   "source": [
    "# Second wave control"
   ]
  },
  {
   "cell_type": "code",
   "execution_count": null,
   "metadata": {},
   "outputs": [],
   "source": [
    "N = 1\n",
    "alpha = 0.02  # IFR\n",
    "eta = 0.02 # Increase in IFR when no medical care is given\n",
    "d = 1e4 # Days left of life for average victim\n",
    "eps = 0.1 # Fraction of value of a day of life that is lost due to intervention\n",
    "c1 = N*alpha\n",
    "c2 = N*eps/d\n",
    "c3 = eta*gamma*N\n",
    "x1, y1, sigma1, t1, newguess = SIR_control(x0=0.8,c1=c1,c2=20*c2,c3=c3,T=100,guess=None)\n",
    "\n",
    "x1, y1, sigma1, t1, newguess = SIR_control(x0=0.8,c1=c1,c2=3*c2,c3=c3,T=100,guess=newguess)\n",
    "x1, y1, sigma1, t1, newguess = SIR_control(x0=0.8,c1=c1,c2=c2,c3=c3,T=100,guess=newguess)"
   ]
  },
  {
   "cell_type": "code",
   "execution_count": null,
   "metadata": {},
   "outputs": [],
   "source": [
    "fig, ax = plt.subplots(1,1)\n",
    "ax.plot(t1,x1)\n",
    "ax.plot(t1,y1)\n",
    "ax.plot(t1,sigma1/sigma0)\n",
    "ax.legend(['x','y','$\\sigma/\\sigma_0$']);\n",
    "plt.xlabel('t');\n",
    "plt.savefig('second_wave_t.pdf')"
   ]
  },
  {
   "cell_type": "code",
   "execution_count": null,
   "metadata": {},
   "outputs": [],
   "source": [
    "N1 = 10; N2=5\n",
    "Y, X = np.mgrid[0:1:100j, 0:1:100j]\n",
    "U = -beta*X*Y\n",
    "V = beta*X*Y - gamma*Y\n",
    "x_points = list(np.linspace(0,1,N1)) + list(np.linspace(1./sigma0,1,N2))\n",
    "y_points = list(1.-np.linspace(0,1,N1)) + [1.e-6]*N2\n",
    "seed_points = np.array([x_points, y_points])\n",
    "\n",
    "plt.figure(figsize=(6,6))\n",
    "plt.streamplot(X, Y, U, V, start_points=seed_points.T,integration_direction='forward',maxlength=1000,\n",
    "               broken_streamlines=False,linewidth=1)\n",
    "plt.plot([0,1],[1,0],'-k',alpha=0.5)\n",
    "plt.plot(x1,y1,'-k')\n",
    "plt.plot([gamma/beta, gamma/beta],[0,1-gamma/beta],'--k',alpha=0.5)\n",
    "plt.xlim(0,1); plt.ylim(0,1);\n",
    "plt.xlabel('x'); plt.ylabel('y');\n",
    "#plt.legend()\n",
    "plt.savefig('real_world_3.pdf')"
   ]
  },
  {
   "cell_type": "code",
   "execution_count": null,
   "metadata": {},
   "outputs": [],
   "source": []
  }
 ],
 "metadata": {
  "kernelspec": {
   "display_name": "Python 3",
   "language": "python",
   "name": "python3"
  },
  "language_info": {
   "codemirror_mode": {
    "name": "ipython",
    "version": 3
   },
   "file_extension": ".py",
   "mimetype": "text/x-python",
   "name": "python",
   "nbconvert_exporter": "python",
   "pygments_lexer": "ipython3",
   "version": "3.6.5"
  },
  "toc": {
   "base_numbering": 1,
   "nav_menu": {},
   "number_sections": true,
   "sideBar": true,
   "skip_h1_title": false,
   "title_cell": "Table of Contents",
   "title_sidebar": "Contents",
   "toc_cell": false,
   "toc_position": {},
   "toc_section_display": true,
   "toc_window_display": false
  }
 },
 "nbformat": 4,
 "nbformat_minor": 2
}
