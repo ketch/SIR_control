{
 "cells": [
  {
   "cell_type": "code",
   "execution_count": null,
   "metadata": {},
   "outputs": [],
   "source": [
    "import matplotlib.pyplot as plt\n",
    "import numpy as np\n",
    "import hjb\n",
    "import hjb_nocost\n",
    "from matplotlib import animation\n",
    "from IPython.display import HTML\n",
    "\n",
    "from scipy.interpolate import interpn\n",
    "from scipy.integrate import solve_ivp"
   ]
  },
  {
   "cell_type": "code",
   "execution_count": null,
   "metadata": {
    "scrolled": true
   },
   "outputs": [],
   "source": [
    "mx = 100\n",
    "my = 100\n",
    "claw = hjb.setup(solver_type='sharpclaw',mx=mx,my=my,min_fac=0.4)\n",
    "claw.tfinal = 100.\n",
    "claw.num_output_times = 200\n",
    "claw.solver.cfl_max=1.49\n",
    "claw.solver.cfl_desired = 1.48\n",
    "claw.solver.lim_type=1\n",
    "#claw.solver.order = 2\n",
    "claw.solver.call_before_step_each_stage = True\n",
    "claw.run()"
   ]
  },
  {
   "cell_type": "code",
   "execution_count": null,
   "metadata": {},
   "outputs": [],
   "source": [
    "i=20\n",
    "switch = claw.frames[i].aux[2,:,:]\n",
    "X,Y = claw.frames[0].grid.p_centers\n",
    "\n",
    "plt.pcolor(X,Y,switch,shading='auto')\n",
    "plt.colorbar()"
   ]
  },
  {
   "cell_type": "code",
   "execution_count": null,
   "metadata": {},
   "outputs": [],
   "source": [
    "fig, axes = plt.subplots(1,2,figsize=(12,8))\n",
    "u = claw.frames[0].q[0,:,:]\n",
    "sigma = claw.frames[0].aux[2,:,:]\n",
    "\n",
    "pc = axes[0].pcolor(X,Y,u,shading='auto', vmin=-0.25,vmax=0)\n",
    "#ax.clim(-.4,0)\n",
    "#ax = plt.gca()\n",
    "plt.colorbar(pc, ax=axes[0])\n",
    "axes[0].axis('image')\n",
    "pcs = axes[1].pcolor(X,Y,sigma,shading='auto', vmin=-0.,vmax=3.)\n",
    "plt.colorbar(pcs, ax=axes[1])\n",
    "axes[1].axis('image')\n",
    "\n",
    "def plot_frame(i):\n",
    "    u = claw.frames[i].q[0,:,:]\n",
    "    pc = axes[0].pcolor(X,Y,u,shading='auto',vmin=-0.4,vmax=0)\n",
    "    sigma = claw.frames[i].aux[2,:,:]\n",
    "    pc = axes[1].pcolor(X,Y,sigma,shading='auto',vmin=-0.,vmax=3)"
   ]
  },
  {
   "cell_type": "code",
   "execution_count": null,
   "metadata": {},
   "outputs": [],
   "source": [
    "anim = animation.FuncAnimation(fig, plot_frame, frames=range(len(claw.frames)))\n",
    "HTML(anim.to_jshtml())"
   ]
  },
  {
   "cell_type": "markdown",
   "metadata": {},
   "source": [
    "# Foward solve with optimal control"
   ]
  },
  {
   "cell_type": "code",
   "execution_count": null,
   "metadata": {},
   "outputs": [],
   "source": [
    "sigmaopt = np.zeros((mx,my,claw.num_output_times+1))\n",
    "ttt = np.zeros(claw.num_output_times+1)\n",
    "for i in range(claw.num_output_times+1):\n",
    "    sigmaopt[:,:,i] = claw.frames[i].aux[2,:,:]\n",
    "    ttt[i] = claw.frames[i].t"
   ]
  },
  {
   "cell_type": "code",
   "execution_count": null,
   "metadata": {},
   "outputs": [],
   "source": [
    "x = claw.grid.x.centers\n",
    "y = claw.grid.y.centers"
   ]
  },
  {
   "cell_type": "code",
   "execution_count": null,
   "metadata": {},
   "outputs": [],
   "source": [
    "T = claw.tfinal\n",
    "gamma = 0.1\n",
    "beta = 0.3\n",
    "\n",
    "def rhs(t, v):\n",
    "    # Variables: x, y, lambda_1, lambda_2\n",
    "    dv = np.zeros(2)\n",
    "    if v[1]<np.min(y):\n",
    "        sigma = 0.\n",
    "    else:\n",
    "        sigma = interpn((x.squeeze(),y.squeeze(),ttt.squeeze()),sigmaopt,(v[0],v[1],T-t))\n",
    "    #print(t,sigma)\n",
    "\n",
    "    dv[0] = -sigma*gamma*v[1]*v[0]\n",
    "    dv[1] =  sigma*gamma*v[1]*v[0] - gamma*v[1]\n",
    "\n",
    "    return dv\n",
    "\n",
    "y0 = 0.01 # Initial infected\n",
    "x0 = 0.99\n",
    "v0 = np.array((x0,y0))\n",
    "times = np.arange(0,T)\n",
    "\n",
    "solution = solve_ivp(rhs,[0,T],v0,t_eval=times,method='RK23',rtol=1.e-3,atol=1.e-3,max_step=5e-2)"
   ]
  },
  {
   "cell_type": "code",
   "execution_count": null,
   "metadata": {},
   "outputs": [],
   "source": [
    "xsol = solution.y[0,:]\n",
    "ysol = solution.y[1,:]\n",
    "plt.figure(figsize=(12,6))\n",
    "plt.plot(times,xsol,lw=3);\n",
    "plt.plot(times,ysol,lw=3);\n",
    "plt.legend(['x','y','sigma/sigma0'])"
   ]
  },
  {
   "cell_type": "code",
   "execution_count": null,
   "metadata": {},
   "outputs": [],
   "source": [
    "sigma0 = beta/gamma\n",
    "N1 = 10; N2=5\n",
    "Y, X = np.mgrid[0:1:100j, 0:1:100j]\n",
    "U = -beta*X*Y\n",
    "V = beta*X*Y - gamma*Y\n",
    "x_points = list(np.linspace(0,1,N1)) + list(np.linspace(1./sigma0,1,N2))\n",
    "y_points = list(1.-np.linspace(0,1,N1)) + [1.e-6]*N2\n",
    "seed_points = np.array([x_points, y_points])\n",
    "\n",
    "plt.figure(figsize=(6,6))\n",
    "plt.streamplot(X, Y, U, V, start_points=seed_points.T,integration_direction='forward',maxlength=1000,\n",
    "               broken_streamlines=False,linewidth=1)\n",
    "plt.plot([0,1],[1,0],'-k',alpha=0.5)\n",
    "plt.plot(xsol,ysol,'-k')\n",
    "plt.plot([gamma/beta, gamma/beta],[0,1-gamma/beta],'--k',alpha=0.5)\n",
    "plt.xlim(0,1); plt.ylim(0,1);\n",
    "plt.xlabel('x'); plt.ylabel('y');"
   ]
  },
  {
   "cell_type": "code",
   "execution_count": null,
   "metadata": {},
   "outputs": [],
   "source": []
  }
 ],
 "metadata": {
  "kernelspec": {
   "display_name": "Python 3",
   "language": "python",
   "name": "python3"
  },
  "language_info": {
   "codemirror_mode": {
    "name": "ipython",
    "version": 3
   },
   "file_extension": ".py",
   "mimetype": "text/x-python",
   "name": "python",
   "nbconvert_exporter": "python",
   "pygments_lexer": "ipython3",
   "version": "3.6.5"
  },
  "toc": {
   "base_numbering": 1,
   "nav_menu": {},
   "number_sections": true,
   "sideBar": true,
   "skip_h1_title": false,
   "title_cell": "Table of Contents",
   "title_sidebar": "Contents",
   "toc_cell": false,
   "toc_position": {},
   "toc_section_display": true,
   "toc_window_display": false
  }
 },
 "nbformat": 4,
 "nbformat_minor": 2
}
