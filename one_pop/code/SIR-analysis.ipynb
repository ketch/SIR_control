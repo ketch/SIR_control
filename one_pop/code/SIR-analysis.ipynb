{
 "cells": [
  {
   "cell_type": "markdown",
   "metadata": {},
   "source": [
    "This notebook contains code I used to help with working out some of the analysis."
   ]
  },
  {
   "cell_type": "code",
   "execution_count": null,
   "metadata": {},
   "outputs": [],
   "source": [
    "%matplotlib inline\n",
    "import numpy as np\n",
    "import matplotlib.pyplot as plt\n",
    "import matplotlib\n",
    "import matplotlib.gridspec as gridspec\n",
    "plt.style.use('seaborn-paper')\n",
    "params = {'legend.fontsize': 'x-large',\n",
    "          'figure.figsize': (15, 5),\n",
    "         'axes.labelsize': 'x-large',\n",
    "         'axes.titlesize':'x-large',\n",
    "         'xtick.labelsize':'x-large',\n",
    "         'ytick.labelsize':'x-large'}\n",
    "plt.rcParams.update(params)"
   ]
  },
  {
   "cell_type": "code",
   "execution_count": null,
   "metadata": {},
   "outputs": [],
   "source": [
    "beta = 0.3\n",
    "gamma = 0.1\n",
    "sigma = beta/gamma\n",
    "N1 = 10; N2=5\n",
    "Y, X = np.mgrid[0:1:100j, 0:1:100j]\n",
    "U = -beta*X*Y\n",
    "V = beta*X*Y - gamma*Y\n",
    "x_points = list(np.linspace(0,1,N1)) + list(np.linspace(1./sigma,1,N2))\n",
    "y_points = list(1.-np.linspace(0,1,N1)) + [1.e-6]*N2\n",
    "seed_points = np.array([x_points, y_points])\n",
    "\n",
    "plt.figure(figsize=(6,6))\n",
    "plt.streamplot(X, Y, U, V, start_points=seed_points.T,integration_direction='forward',maxlength=1000,broken_streamlines=False)\n",
    "plt.plot([0,1],[1,0],'-k')\n",
    "plt.plot([1./sigma,1./sigma],[0,1-1./sigma],'--k',alpha=0.5)\n",
    "plt.axis('image');\n",
    "plt.xlim(0,1);  plt.ylim(0,1);\n",
    "plt.xlabel('x'); plt.ylabel('y');\n",
    "plt.savefig('sigma15.pdf')"
   ]
  },
  {
   "cell_type": "code",
   "execution_count": null,
   "metadata": {},
   "outputs": [],
   "source": [
    "from scipy.special import lambertw"
   ]
  },
  {
   "cell_type": "code",
   "execution_count": null,
   "metadata": {},
   "outputs": [],
   "source": [
    "def x_inf(x,y,sigma):\n",
    "    return -1./sigma * np.real(lambertw(-x*sigma*np.exp(-sigma*(x+y))))"
   ]
  },
  {
   "cell_type": "code",
   "execution_count": null,
   "metadata": {},
   "outputs": [],
   "source": [
    "x_inf(0.6,1.e-3,3.)"
   ]
  },
  {
   "cell_type": "code",
   "execution_count": null,
   "metadata": {},
   "outputs": [],
   "source": [
    "x_inf(0.99,1.e-3,3.)"
   ]
  },
  {
   "cell_type": "code",
   "execution_count": null,
   "metadata": {},
   "outputs": [],
   "source": [
    "def dxinf_dy(x0,y0,sigma):\n",
    "    return -1./(np.exp(sigma*(x0+y0-x_inf(x0,y0,sigma)))/(x0*sigma)-1)"
   ]
  },
  {
   "cell_type": "code",
   "execution_count": null,
   "metadata": {},
   "outputs": [],
   "source": [
    "x0 = 0.1\n",
    "y0 = np.linspace(0.0001,1-x0)\n",
    "plt.plot(y0,-dxinf_dy(0.5,y0,3)*y0)"
   ]
  },
  {
   "cell_type": "code",
   "execution_count": null,
   "metadata": {},
   "outputs": [],
   "source": [
    "x0 = np.linspace(0.1,0.6)\n",
    "y0 = 0.1\n",
    "plt.plot(x0,dxinf_dy(x0,y0,3))"
   ]
  },
  {
   "cell_type": "code",
   "execution_count": null,
   "metadata": {},
   "outputs": [],
   "source": [
    "plt.contour(X,Y,x_inf(X,Y,3))\n",
    "plt.axis('image')"
   ]
  },
  {
   "cell_type": "code",
   "execution_count": null,
   "metadata": {},
   "outputs": [],
   "source": [
    "Y, X = np.mgrid[1e-2:1:100j, 1e-2:1:100j]\n",
    "\n",
    "plt.contourf(X,Y,dxinf_dy(X,Y,3))\n",
    "plt.colorbar()\n",
    "plt.contour(X,Y,x_inf(X,Y,3))\n",
    "plt.axis('image')"
   ]
  },
  {
   "cell_type": "code",
   "execution_count": null,
   "metadata": {},
   "outputs": [],
   "source": [
    "from scipy.integrate import solve_ivp\n",
    "\n",
    "def SIR_bangbang(beta=0.3, gamma=0.1, x0=0.99, y0=0.01, switch_times=[],T=100):\n",
    "    \"\"\" Model the current outbreak using the SIR model.\"\"\"\n",
    "\n",
    "    du = np.zeros(3)\n",
    "    u0 = np.zeros(3)\n",
    "    switch_times = np.array(switch_times)\n",
    "    \n",
    "    def f(t,u):\n",
    "        if np.argmax(t<switch_times) % 2 == 0:\n",
    "            qval = 0\n",
    "        else:\n",
    "            qval = 1\n",
    "        du[0] = -(1-qval)*beta*u[1]*u[0]\n",
    "        du[1] = (1-qval)*beta*u[1]*u[0] - gamma*u[1]\n",
    "        return du\n",
    "\n",
    "    # Initial values\n",
    "    u0[1] = y0 # Initial infected\n",
    "    u0[0] = x0\n",
    "\n",
    "    #dt = 0.01\n",
    "    times = np.linspace(0,T,1000)\n",
    "    solution = solve_ivp(f,[0,T],u0,t_eval=times,method='RK23',max_step=0.1)\n",
    "    S = solution.y[0,:]\n",
    "    I = solution.y[1,:]\n",
    "    \n",
    "    fig, ax = plt.subplots(1,2)\n",
    "    ax[0].plot(S,'-',lw=3)\n",
    "    ax[0].plot(I,'-',lw=3)\n",
    "    ax[0].legend(['Susceptible','Infected',r'$x_\\infty$'])\n",
    "\n",
    "    \n",
    "    N1 = 10; N2=5\n",
    "    Y, X = np.mgrid[0:1:100j, 0:1:100j]\n",
    "    U = -beta*X*Y\n",
    "    V = beta*X*Y - gamma*Y\n",
    "    x_points = list(np.linspace(0,1,N1)) + list(np.linspace(1./sigma,1,N2))\n",
    "    y_points = list(1.-np.linspace(0,1,N1)) + [1.e-6]*N2\n",
    "    seed_points = np.array([x_points, y_points])\n",
    "\n",
    "    ax[1].streamplot(X, Y, U, V, start_points=seed_points.T,integration_direction='forward',maxlength=1000,broken_streamlines=False)\n",
    "    ax[1].plot([0,1],[1,0],'-k')\n",
    "    ax[1].plot([1./sigma,1./sigma],[0,1-1./sigma],'--k',alpha=0.5)\n",
    "    ax[1].axis('image');\n",
    "    ax[1].set_xlabel('x'); ax[1].set_ylabel('y');\n",
    "    ax[1].plot(S,I,lw=3); ax[1].set_xlim(0,1); ax[1].set_ylim(0,1)\n",
    "    ax[1].plot([gamma/beta, gamma/beta],[0,1],'--k',alpha=0.5)\n",
    "    return S, I"
   ]
  },
  {
   "cell_type": "code",
   "execution_count": null,
   "metadata": {},
   "outputs": [],
   "source": [
    "x0 = 0.7; y0 = 0.2\n",
    "S1, I1 = SIR_bangbang(x0=x0,y0=y0,switch_times=[0,25],T=54)"
   ]
  },
  {
   "cell_type": "code",
   "execution_count": null,
   "metadata": {},
   "outputs": [],
   "source": [
    "S2, I2 = SIR_bangbang(x0=x0,y0=y0,switch_times=[8,16.5],T=16.5)"
   ]
  },
  {
   "cell_type": "code",
   "execution_count": null,
   "metadata": {},
   "outputs": [],
   "source": [
    "switch_times = [2,4,6,8,10,12,14,16,18,20,21.6]\n",
    "S3, I3 = SIR_bangbang(x0=x0,y0=y0,switch_times=switch_times,T=switch_times[-1])"
   ]
  },
  {
   "cell_type": "code",
   "execution_count": null,
   "metadata": {},
   "outputs": [],
   "source": [
    "N1 = 10; N2=5\n",
    "Y, X = np.mgrid[0:1:100j, 0:1:100j]\n",
    "U = -beta*X*Y\n",
    "V = beta*X*Y - gamma*Y\n",
    "x_points = list(np.linspace(0,1,N1)) + list(np.linspace(1./sigma,1,N2))\n",
    "y_points = list(1.-np.linspace(0,1,N1)) + [1.e-6]*N2\n",
    "seed_points = np.array([x_points, y_points])\n",
    "\n",
    "plt.figure(figsize=(6,6))\n",
    "plt.streamplot(X, Y, U, V, start_points=seed_points.T,integration_direction='forward',maxlength=1000,broken_streamlines=False)\n",
    "plt.plot([0,1],[1,0],'-k')\n",
    "plt.plot([1./sigma,1./sigma],[0,1-1./sigma],'--k',alpha=0.5)\n",
    "plt.axis('image');\n",
    "plt.xlim(0,1);  plt.ylim(0,1);\n",
    "plt.xlabel('x'); plt.ylabel('y');\n",
    "plt.plot(S1,I1,lw=3);\n",
    "plt.plot(S2,I2,lw=3);\n",
    "plt.plot(S3,I3,lw=3);\n",
    "plt.savefig('threepaths.pdf')"
   ]
  },
  {
   "cell_type": "code",
   "execution_count": null,
   "metadata": {},
   "outputs": [],
   "source": [
    "from scipy.integrate import solve_ivp\n",
    "\n",
    "def SIR_general_control(beta=0.3, gamma=0.1, x0=0.99, y0=0.01, qfun=None, T=100):\n",
    "    \"\"\" Model the current outbreak using the SIR model.\"\"\"\n",
    "\n",
    "    du = np.zeros(3)\n",
    "    u0 = np.zeros(3)\n",
    "    \n",
    "    def f(t,u):\n",
    "        qval = qfun(t,u)\n",
    "        du[0] = -(1-qval)*beta*u[1]*u[0]\n",
    "        du[1] = (1-qval)*beta*u[1]*u[0] - gamma*u[1]\n",
    "        return du\n",
    "\n",
    "    # Initial values\n",
    "    u0[1] = y0 # Initial infected\n",
    "    u0[0] = x0\n",
    "\n",
    "    #dt = 0.01\n",
    "    times = np.linspace(0,T,10000)\n",
    "    solution = solve_ivp(f,[0,T],u0,t_eval=times,method='RK23',max_step=0.1)\n",
    "    S = solution.y[0,:]\n",
    "    I = solution.y[1,:]\n",
    "    \n",
    "    fig, ax = plt.subplots(1,2)\n",
    "    ax[0].plot(S,'-',lw=3)\n",
    "    ax[0].plot(I,'-',lw=3)\n",
    "    ax[0].legend(['Susceptible','Infected',r'$x_\\infty$'])\n",
    "\n",
    "    \n",
    "    N1 = 10; N2=5\n",
    "    Y, X = np.mgrid[0:1:100j, 0:1:100j]\n",
    "    U = -beta*X*Y\n",
    "    V = beta*X*Y - gamma*Y\n",
    "    x_points = list(np.linspace(0,1,N1)) + list(np.linspace(1./sigma,1,N2))\n",
    "    y_points = list(1.-np.linspace(0,1,N1)) + [1.e-6]*N2\n",
    "    seed_points = np.array([x_points, y_points])\n",
    "\n",
    "    ax[1].streamplot(X, Y, U, V, start_points=seed_points.T,integration_direction='forward',maxlength=1000,broken_streamlines=False)\n",
    "    ax[1].plot([0,1],[1,0],'-k')\n",
    "    ax[1].plot([1./sigma,1./sigma],[0,1-1./sigma],'--k',alpha=0.5)\n",
    "    ax[1].axis('image');\n",
    "    ax[1].set_xlabel('x'); ax[1].set_ylabel('y');\n",
    "    ax[1].plot(S,I,lw=3); ax[1].set_xlim(0,1); ax[1].set_ylim(0,1)\n",
    "    ax[1].plot([gamma/beta, gamma/beta],[0,1],'--k',alpha=0.5)\n",
    "    return S, I"
   ]
  },
  {
   "cell_type": "code",
   "execution_count": null,
   "metadata": {},
   "outputs": [],
   "source": [
    "x0=0.99\n",
    "y0 = 0.01\n",
    "def xinf_sigma(sigma):\n",
    "    return x_inf(x0, y0, sigma)\n",
    "from scipy.optimize import fsolve\n",
    "\n",
    "sigma0 = 3.\n",
    "myfun = lambda sigma: xinf_sigma(sigma) - 1/sigma0\n",
    "sigmastar = fsolve(myfun,sigma0)[0]\n",
    "qfun = lambda t, u: 1-sigmastar/sigma0\n",
    "1-sigmastar/sigma0"
   ]
  },
  {
   "cell_type": "code",
   "execution_count": null,
   "metadata": {},
   "outputs": [],
   "source": [
    "S1, I1 = SIR_general_control(qfun=qfun,T=1000)"
   ]
  },
  {
   "cell_type": "code",
   "execution_count": null,
   "metadata": {},
   "outputs": [],
   "source": [
    "def qfun(t,u):\n",
    "    if u[0]>1./sigma0: return 0\n",
    "    else: return 1\n",
    "    \n",
    "S2, I2 = SIR_general_control(qfun=qfun,T=1000)"
   ]
  },
  {
   "cell_type": "code",
   "execution_count": null,
   "metadata": {},
   "outputs": [],
   "source": [
    "N1 = 10; N2=5\n",
    "Y, X = np.mgrid[0:1:100j, 0:1:100j]\n",
    "U = -beta*X*Y\n",
    "V = beta*X*Y - gamma*Y\n",
    "x_points = list(np.linspace(0,1,N1)) + list(np.linspace(1./sigma,1,N2))\n",
    "y_points = list(1.-np.linspace(0,1,N1)) + [1.e-6]*N2\n",
    "seed_points = np.array([x_points, y_points])\n",
    "\n",
    "plt.figure(figsize=(6,6))\n",
    "plt.streamplot(X, Y, U, V, start_points=seed_points.T,integration_direction='forward',maxlength=1000,broken_streamlines=False)\n",
    "plt.plot([0,1],[1,0],'-k')\n",
    "plt.plot([1./sigma,1./sigma],[0,1-1./sigma],'--k',alpha=0.5)\n",
    "plt.axis('image');\n",
    "plt.xlim(0,1);  plt.ylim(0,1);\n",
    "plt.xlabel('x'); plt.ylabel('y');\n",
    "plt.plot(S1,I1,lw=3,label='Constant control');\n",
    "plt.plot(S2,I2,lw=3, label='Bang-bang control');\n",
    "plt.legend()\n",
    "plt.savefig('twocontrols.pdf')"
   ]
  },
  {
   "cell_type": "code",
   "execution_count": null,
   "metadata": {},
   "outputs": [],
   "source": []
  }
 ],
 "metadata": {
  "kernelspec": {
   "display_name": "Python 3",
   "language": "python",
   "name": "python3"
  },
  "language_info": {
   "codemirror_mode": {
    "name": "ipython",
    "version": 3
   },
   "file_extension": ".py",
   "mimetype": "text/x-python",
   "name": "python",
   "nbconvert_exporter": "python",
   "pygments_lexer": "ipython3",
   "version": "3.6.5"
  },
  "toc": {
   "base_numbering": 1,
   "nav_menu": {},
   "number_sections": true,
   "sideBar": true,
   "skip_h1_title": false,
   "title_cell": "Table of Contents",
   "title_sidebar": "Contents",
   "toc_cell": false,
   "toc_position": {},
   "toc_section_display": true,
   "toc_window_display": false
  }
 },
 "nbformat": 4,
 "nbformat_minor": 2
}
